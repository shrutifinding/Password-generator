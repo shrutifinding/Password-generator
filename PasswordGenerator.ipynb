{
  "cells": [
    {
      "cell_type": "code",
      "execution_count": 1,
      "metadata": {
        "colab": {
          "base_uri": "https://localhost:8080/"
        },
        "id": "QsBP_6PS1P3G",
        "outputId": "8c35715f-085e-4f4e-adad-1b3055a5676f"
      },
      "outputs": [
        {
          "name": "stdout",
          "output_type": "stream",
          "text": [
            "Generated password: 1Q{B8za\n"
          ]
        }
      ],
      "source": [
        "\n",
        "import secrets\n",
        "import string\n",
        "\n",
        "def generate_password(length, include_uppercase, include_numbers, include_special):\n",
        "    characters = string.ascii_lowercase\n",
        "    if include_uppercase:\n",
        "        characters += string.ascii_uppercase\n",
        "    if include_numbers:\n",
        "        characters += string.digits\n",
        "    if include_special:\n",
        "        characters += string.punctuation\n",
        "\n",
        "    #Generate the password\n",
        "    password = [secrets.choice(characters) for _ in range(length)]\n",
        "    \n",
        "    #Shuffle the password for more security\n",
        "    secrets.SystemRandom().shuffle(password)\n",
        "    \n",
        "    return ''.join(password)\n",
        "\n",
        "def get_user_input():\n",
        "    try:\n",
        "        length = int(input(\"Enter the length of the password: \"))\n",
        "        include_uppercase = input(\"Include uppercase letters? (yes/no): \").lower() == 'yes'\n",
        "        include_numbers = input(\"Include numbers? (yes/no): \").lower() == 'yes'\n",
        "        include_special = input(\"Include special characters? (yes/no): \").lower() == 'yes'\n",
        "\n",
        "        password = generate_password(length, include_uppercase, include_numbers, include_special)\n",
        "        print(\"Generated password:\", password)\n",
        "    except ValueError as ve:\n",
        "        print(f\"Invalid input: {ve}\")\n",
        "\n",
        "if __name__ == \"__main__\":\n",
        "    get_user_input()\n",
        "\n",
        "\n"
      ]
    }
  ],
  "metadata": {
    "colab": {
      "provenance": []
    },
    "kernelspec": {
      "display_name": "Python 3",
      "name": "python3"
    },
    "language_info": {
      "codemirror_mode": {
        "name": "ipython",
        "version": 3
      },
      "file_extension": ".py",
      "mimetype": "text/x-python",
      "name": "python",
      "nbconvert_exporter": "python",
      "pygments_lexer": "ipython3",
      "version": "3.12.3"
    }
  },
  "nbformat": 4,
  "nbformat_minor": 0
}
